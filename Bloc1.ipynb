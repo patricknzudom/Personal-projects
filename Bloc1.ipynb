{
  "nbformat": 4,
  "nbformat_minor": 0,
  "metadata": {
    "colab": {
      "provenance": []
    },
    "kernelspec": {
      "name": "python3",
      "display_name": "Python 3"
    },
    "language_info": {
      "name": "python"
    }
  },
  "cells": [
    {
      "cell_type": "code",
      "execution_count": null,
      "metadata": {
        "id": "TZUmpcHIjAdv"
      },
      "outputs": [],
      "source": [
        "import sympy as sp\n",
        "import numpy as np\n",
        "import pandas as pd"
      ]
    },
    {
      "cell_type": "markdown",
      "source": [
        "# Bloc 1"
      ],
      "metadata": {
        "id": "0EqjhNcbDYvS"
      }
    },
    {
      "cell_type": "markdown",
      "source": [
        "**Simulation d'une chaîne de Markov**\n",
        "\n",
        "\n",
        "Une présentation détaillée de ce bloc se retrouve dans le fichier Latex."
      ],
      "metadata": {
        "id": "PprBPSTP4PQG"
      }
    },
    {
      "cell_type": "markdown",
      "source": [
        "Lors de mon cours d'algèbre linéaire et géométrie vectorielle, j'ai appris les **Chaînes de Markov**. Les chaînes de Markov sont un modèle qui fait les suppositions suivantes:\n",
        "\n",
        "\"La probabilité de passer d'un état à un autre dépend de l'état où vous êtes maintenant, et pas du passé\"\n",
        "\n",
        "Par exemple, admettons qu'**aujourd'hui est une journée ensoleillée**. \"**Aujourd'hui ensoleillé**\" est la seule chose qu'on a besoin de savoir pour obtenir la probabilité que \"**demain sera ensoleillé**\" (il importe peu que hier était ensoleillé ou non).\n",
        "\n",
        "Le concept peut est simple, mais les résultats peuvent être très intéressants. Particulièrement, ça devient quand on considère une séquence de variables aléatoires. Dans ce cas, on peut créer un processus et observer l'évolution complète basée sur les suppositions."
      ],
      "metadata": {
        "id": "3KkL72KwnUvq"
      }
    },
    {
      "cell_type": "markdown",
      "source": [
        "Chaîne de Markov - Dettes"
      ],
      "metadata": {
        "id": "qYyuscZjlvP7"
      }
    },
    {
      "cell_type": "code",
      "source": [
        "#Matrice de transition A\n",
        "A = sp.Matrix([[2/3, 1/3],[1/6, 5/6]])\n",
        "A.transpose()"
      ],
      "metadata": {
        "colab": {
          "base_uri": "https://localhost:8080/",
          "height": 58
        },
        "id": "qe7v5PzMvPsW",
        "outputId": "2ccca67e-3e53-41fc-9e89-352a8ed15c56"
      },
      "execution_count": null,
      "outputs": [
        {
          "output_type": "execute_result",
          "data": {
            "text/plain": [
              "Matrix([\n",
              "[0.666666666666667, 0.166666666666667],\n",
              "[0.333333333333333, 0.833333333333333]])"
            ],
            "text/latex": "$\\displaystyle \\left[\\begin{matrix}0.666666666666667 & 0.166666666666667\\\\0.333333333333333 & 0.833333333333333\\end{matrix}\\right]$"
          },
          "metadata": {},
          "execution_count": 42
        }
      ]
    },
    {
      "cell_type": "code",
      "source": [
        "#Vecteur d'état initial du système\n",
        "S0 = sp.Matrix([[1,0]])\n",
        "S0.transpose()"
      ],
      "metadata": {
        "colab": {
          "base_uri": "https://localhost:8080/",
          "height": 58
        },
        "id": "QH3mi8O_wb-e",
        "outputId": "22038501-aa08-4efc-80bb-f336b8c8bde2"
      },
      "execution_count": null,
      "outputs": [
        {
          "output_type": "execute_result",
          "data": {
            "text/plain": [
              "Matrix([\n",
              "[1],\n",
              "[0]])"
            ],
            "text/latex": "$\\displaystyle \\left[\\begin{matrix}1\\\\0\\end{matrix}\\right]$"
          },
          "metadata": {},
          "execution_count": 3
        }
      ]
    },
    {
      "cell_type": "code",
      "source": [
        "#Après un jour\n",
        "S1 = S0 * A\n",
        "S1.transpose()"
      ],
      "metadata": {
        "colab": {
          "base_uri": "https://localhost:8080/",
          "height": 58
        },
        "id": "Ea7Y4DX5xjse",
        "outputId": "ebcb4d23-a8ee-433b-96d0-5645a213333c"
      },
      "execution_count": null,
      "outputs": [
        {
          "output_type": "execute_result",
          "data": {
            "text/plain": [
              "Matrix([\n",
              "[0.333333969116211],\n",
              "[0.666666030883789]])"
            ],
            "text/latex": "$\\displaystyle \\left[\\begin{matrix}0.333333969116211\\\\0.666666030883789\\end{matrix}\\right]$"
          },
          "metadata": {},
          "execution_count": 43
        }
      ]
    },
    {
      "cell_type": "code",
      "source": [
        "#Après deux jours\n",
        "S0 * (A**2)"
      ],
      "metadata": {
        "colab": {
          "base_uri": "https://localhost:8080/",
          "height": 38
        },
        "id": "WVX4a0NNxpq-",
        "outputId": "096952a5-f2b1-4445-d085-0a4645afb277"
      },
      "execution_count": null,
      "outputs": [
        {
          "output_type": "execute_result",
          "data": {
            "text/plain": [
              "Matrix([[0.333333651224772, 0.666666348775228]])"
            ],
            "text/latex": "$\\displaystyle \\left[\\begin{matrix}0.333333651224772 & 0.666666348775228\\end{matrix}\\right]$"
          },
          "metadata": {},
          "execution_count": 46
        }
      ]
    },
    {
      "cell_type": "code",
      "source": [
        "#Après un an\n",
        "S0 * (A**365)"
      ],
      "metadata": {
        "colab": {
          "base_uri": "https://localhost:8080/",
          "height": 38
        },
        "id": "FLkmq8-5yEGf",
        "outputId": "4714f77c-60ae-489f-b013-20d7f95b25a6"
      },
      "execution_count": null,
      "outputs": [
        {
          "output_type": "execute_result",
          "data": {
            "text/plain": [
              "Matrix([[0.333333333333335, 0.66666666666667]])"
            ],
            "text/latex": "$\\displaystyle \\left[\\begin{matrix}0.333333333333335 & 0.66666666666667\\end{matrix}\\right]$"
          },
          "metadata": {},
          "execution_count": 48
        }
      ]
    },
    {
      "cell_type": "code",
      "source": [
        "liste_approx = [S0]\n",
        "for rang in range (1, 20, 1):\n",
        "  S0 = S0 * A\n",
        "  liste_approx.append(S0)\n",
        "\n",
        "liste_approx"
      ],
      "metadata": {
        "colab": {
          "base_uri": "https://localhost:8080/"
        },
        "id": "OkjHmVDvy8n8",
        "outputId": "afeec068-69c9-40b6-b2b6-d62dc7986168"
      },
      "execution_count": null,
      "outputs": [
        {
          "output_type": "execute_result",
          "data": {
            "text/plain": [
              "[Matrix([[1, 0]]),\n",
              " Matrix([[0.666666666666667, 0.333333333333333]]),\n",
              " Matrix([[0.5, 0.5]]),\n",
              " Matrix([[0.416666666666667, 0.583333333333333]]),\n",
              " Matrix([[0.375, 0.625]]),\n",
              " Matrix([[0.354166666666667, 0.645833333333333]]),\n",
              " Matrix([[0.34375, 0.65625]]),\n",
              " Matrix([[0.338541666666667, 0.661458333333333]]),\n",
              " Matrix([[0.3359375, 0.6640625]]),\n",
              " Matrix([[0.334635416666667, 0.665364583333333]]),\n",
              " Matrix([[0.333984375, 0.666015625]]),\n",
              " Matrix([[0.333658854166667, 0.666341145833333]]),\n",
              " Matrix([[0.33349609375, 0.66650390625]]),\n",
              " Matrix([[0.333414713541667, 0.666585286458333]]),\n",
              " Matrix([[0.3333740234375, 0.6666259765625]]),\n",
              " Matrix([[0.333353678385417, 0.666646321614583]]),\n",
              " Matrix([[0.333343505859375, 0.666656494140625]]),\n",
              " Matrix([[0.333338419596354, 0.666661580403646]]),\n",
              " Matrix([[0.333335876464844, 0.666664123535156]]),\n",
              " Matrix([[0.333334604899089, 0.666665395100912]])]"
            ]
          },
          "metadata": {},
          "execution_count": 7
        }
      ]
    },
    {
      "cell_type": "code",
      "source": [
        "liste_approx.append(100)\n",
        "liste_approx"
      ],
      "metadata": {
        "colab": {
          "base_uri": "https://localhost:8080/"
        },
        "id": "Aqe41NKTJYXa",
        "outputId": "1698cd89-4e43-498c-a385-5d30299714e3"
      },
      "execution_count": null,
      "outputs": [
        {
          "output_type": "execute_result",
          "data": {
            "text/plain": [
              "[Matrix([[1, 0]]),\n",
              " Matrix([[0.666666666666667, 0.333333333333333]]),\n",
              " Matrix([[0.5, 0.5]]),\n",
              " Matrix([[0.416666666666667, 0.583333333333333]]),\n",
              " Matrix([[0.375, 0.625]]),\n",
              " Matrix([[0.354166666666667, 0.645833333333333]]),\n",
              " Matrix([[0.34375, 0.65625]]),\n",
              " Matrix([[0.338541666666667, 0.661458333333333]]),\n",
              " Matrix([[0.3359375, 0.6640625]]),\n",
              " Matrix([[0.334635416666667, 0.665364583333333]]),\n",
              " Matrix([[0.333984375, 0.666015625]]),\n",
              " Matrix([[0.333658854166667, 0.666341145833333]]),\n",
              " Matrix([[0.33349609375, 0.66650390625]]),\n",
              " Matrix([[0.333414713541667, 0.666585286458333]]),\n",
              " Matrix([[0.3333740234375, 0.6666259765625]]),\n",
              " Matrix([[0.333353678385417, 0.666646321614583]]),\n",
              " Matrix([[0.333343505859375, 0.666656494140625]]),\n",
              " Matrix([[0.333338419596354, 0.666661580403646]]),\n",
              " Matrix([[0.333335876464844, 0.666664123535156]]),\n",
              " Matrix([[0.333334604899089, 0.666665395100912]]),\n",
              " Matrix([[0.333333969116211, 0.666666030883789]]),\n",
              " 12,\n",
              " 12,\n",
              " 100]"
            ]
          },
          "metadata": {},
          "execution_count": 53
        }
      ]
    },
    {
      "cell_type": "code",
      "source": [
        "État = ['Sans dettes','Avec dettes']\n",
        "trans_matrix = np.array([[2/3,1/6],[1/3,5/6]])\n",
        "pd.DataFrame(trans_matrix,columns=État,index=État)"
      ],
      "metadata": {
        "colab": {
          "base_uri": "https://localhost:8080/",
          "height": 112
        },
        "id": "asVw0KVdkuPv",
        "outputId": "28fcda3f-59b5-4109-e86f-e8a560b71882"
      },
      "execution_count": null,
      "outputs": [
        {
          "output_type": "execute_result",
          "data": {
            "text/plain": [
              "             Sans dettes  Avec dettes\n",
              "Sans dettes     0.666667     0.166667\n",
              "Avec dettes     0.333333     0.833333"
            ],
            "text/html": [
              "\n",
              "  <div id=\"df-507b2c1c-e448-4e45-b0fd-8512fbe3d400\">\n",
              "    <div class=\"colab-df-container\">\n",
              "      <div>\n",
              "<style scoped>\n",
              "    .dataframe tbody tr th:only-of-type {\n",
              "        vertical-align: middle;\n",
              "    }\n",
              "\n",
              "    .dataframe tbody tr th {\n",
              "        vertical-align: top;\n",
              "    }\n",
              "\n",
              "    .dataframe thead th {\n",
              "        text-align: right;\n",
              "    }\n",
              "</style>\n",
              "<table border=\"1\" class=\"dataframe\">\n",
              "  <thead>\n",
              "    <tr style=\"text-align: right;\">\n",
              "      <th></th>\n",
              "      <th>Sans dettes</th>\n",
              "      <th>Avec dettes</th>\n",
              "    </tr>\n",
              "  </thead>\n",
              "  <tbody>\n",
              "    <tr>\n",
              "      <th>Sans dettes</th>\n",
              "      <td>0.666667</td>\n",
              "      <td>0.166667</td>\n",
              "    </tr>\n",
              "    <tr>\n",
              "      <th>Avec dettes</th>\n",
              "      <td>0.333333</td>\n",
              "      <td>0.833333</td>\n",
              "    </tr>\n",
              "  </tbody>\n",
              "</table>\n",
              "</div>\n",
              "      <button class=\"colab-df-convert\" onclick=\"convertToInteractive('df-507b2c1c-e448-4e45-b0fd-8512fbe3d400')\"\n",
              "              title=\"Convert this dataframe to an interactive table.\"\n",
              "              style=\"display:none;\">\n",
              "        \n",
              "  <svg xmlns=\"http://www.w3.org/2000/svg\" height=\"24px\"viewBox=\"0 0 24 24\"\n",
              "       width=\"24px\">\n",
              "    <path d=\"M0 0h24v24H0V0z\" fill=\"none\"/>\n",
              "    <path d=\"M18.56 5.44l.94 2.06.94-2.06 2.06-.94-2.06-.94-.94-2.06-.94 2.06-2.06.94zm-11 1L8.5 8.5l.94-2.06 2.06-.94-2.06-.94L8.5 2.5l-.94 2.06-2.06.94zm10 10l.94 2.06.94-2.06 2.06-.94-2.06-.94-.94-2.06-.94 2.06-2.06.94z\"/><path d=\"M17.41 7.96l-1.37-1.37c-.4-.4-.92-.59-1.43-.59-.52 0-1.04.2-1.43.59L10.3 9.45l-7.72 7.72c-.78.78-.78 2.05 0 2.83L4 21.41c.39.39.9.59 1.41.59.51 0 1.02-.2 1.41-.59l7.78-7.78 2.81-2.81c.8-.78.8-2.07 0-2.86zM5.41 20L4 18.59l7.72-7.72 1.47 1.35L5.41 20z\"/>\n",
              "  </svg>\n",
              "      </button>\n",
              "      \n",
              "  <style>\n",
              "    .colab-df-container {\n",
              "      display:flex;\n",
              "      flex-wrap:wrap;\n",
              "      gap: 12px;\n",
              "    }\n",
              "\n",
              "    .colab-df-convert {\n",
              "      background-color: #E8F0FE;\n",
              "      border: none;\n",
              "      border-radius: 50%;\n",
              "      cursor: pointer;\n",
              "      display: none;\n",
              "      fill: #1967D2;\n",
              "      height: 32px;\n",
              "      padding: 0 0 0 0;\n",
              "      width: 32px;\n",
              "    }\n",
              "\n",
              "    .colab-df-convert:hover {\n",
              "      background-color: #E2EBFA;\n",
              "      box-shadow: 0px 1px 2px rgba(60, 64, 67, 0.3), 0px 1px 3px 1px rgba(60, 64, 67, 0.15);\n",
              "      fill: #174EA6;\n",
              "    }\n",
              "\n",
              "    [theme=dark] .colab-df-convert {\n",
              "      background-color: #3B4455;\n",
              "      fill: #D2E3FC;\n",
              "    }\n",
              "\n",
              "    [theme=dark] .colab-df-convert:hover {\n",
              "      background-color: #434B5C;\n",
              "      box-shadow: 0px 1px 3px 1px rgba(0, 0, 0, 0.15);\n",
              "      filter: drop-shadow(0px 1px 2px rgba(0, 0, 0, 0.3));\n",
              "      fill: #FFFFFF;\n",
              "    }\n",
              "  </style>\n",
              "\n",
              "      <script>\n",
              "        const buttonEl =\n",
              "          document.querySelector('#df-507b2c1c-e448-4e45-b0fd-8512fbe3d400 button.colab-df-convert');\n",
              "        buttonEl.style.display =\n",
              "          google.colab.kernel.accessAllowed ? 'block' : 'none';\n",
              "\n",
              "        async function convertToInteractive(key) {\n",
              "          const element = document.querySelector('#df-507b2c1c-e448-4e45-b0fd-8512fbe3d400');\n",
              "          const dataTable =\n",
              "            await google.colab.kernel.invokeFunction('convertToInteractive',\n",
              "                                                     [key], {});\n",
              "          if (!dataTable) return;\n",
              "\n",
              "          const docLinkHtml = 'Like what you see? Visit the ' +\n",
              "            '<a target=\"_blank\" href=https://colab.research.google.com/notebooks/data_table.ipynb>data table notebook</a>'\n",
              "            + ' to learn more about interactive tables.';\n",
              "          element.innerHTML = '';\n",
              "          dataTable['output_type'] = 'display_data';\n",
              "          await google.colab.output.renderOutput(dataTable, element);\n",
              "          const docLink = document.createElement('div');\n",
              "          docLink.innerHTML = docLinkHtml;\n",
              "          element.appendChild(docLink);\n",
              "        }\n",
              "      </script>\n",
              "    </div>\n",
              "  </div>\n",
              "  "
            ]
          },
          "metadata": {},
          "execution_count": 11
        }
      ]
    },
    {
      "cell_type": "code",
      "source": [
        "#Valeurs propres\n",
        "A.eigenvals()"
      ],
      "metadata": {
        "id": "0NHc2QR2m-zg",
        "colab": {
          "base_uri": "https://localhost:8080/"
        },
        "outputId": "8b0db4d3-d02e-468a-fef1-406a269a2472"
      },
      "execution_count": null,
      "outputs": [
        {
          "output_type": "execute_result",
          "data": {
            "text/plain": [
              "{0.500000000000000: 1, 1.00000000000000: 1}"
            ]
          },
          "metadata": {},
          "execution_count": 8
        }
      ]
    },
    {
      "cell_type": "code",
      "source": [
        "#Vecteurs propres\n",
        "V = A.eigenvects()\n",
        "V"
      ],
      "metadata": {
        "id": "SUD8qYcQAC_h",
        "colab": {
          "base_uri": "https://localhost:8080/"
        },
        "outputId": "905bf554-8b48-46f7-a33d-c8e6008a8948"
      },
      "execution_count": null,
      "outputs": [
        {
          "output_type": "execute_result",
          "data": {
            "text/plain": [
              "[(0.500000000000000, 1, [Matrix([\n",
              "   [-0.894427190999916],\n",
              "   [ 0.447213595499958]])]), (1.00000000000000, 1, [Matrix([\n",
              "   [-0.74535599249993],\n",
              "   [-0.74535599249993]])])]"
            ]
          },
          "metadata": {},
          "execution_count": 9
        }
      ]
    },
    {
      "cell_type": "markdown",
      "source": [
        "Chaîne de Markov - Équipe de hockey"
      ],
      "metadata": {
        "id": "lKPWzjBLl25D"
      }
    },
    {
      "cell_type": "code",
      "source": [
        "\n",
        "#Matrice de transition B\n",
        "B = sp.Matrix([[0, 1/2, 1/4],[1/3, 0, 3/4],[2/3, 1/2, 0]])\n",
        "B.transpose()"
      ],
      "metadata": {
        "id": "uplQhrzfmO13",
        "colab": {
          "base_uri": "https://localhost:8080/",
          "height": 78
        },
        "outputId": "cba9f56b-f98c-4ec2-bad4-7b13576abcb0"
      },
      "execution_count": null,
      "outputs": [
        {
          "output_type": "execute_result",
          "data": {
            "text/plain": [
              "Matrix([\n",
              "[   0, 0.333333333333333, 0.666666666666667],\n",
              "[ 0.5,                 0,               0.5],\n",
              "[0.25,              0.75,                 0]])"
            ],
            "text/latex": "$\\displaystyle \\left[\\begin{matrix}0 & 0.333333333333333 & 0.666666666666667\\\\0.5 & 0 & 0.5\\\\0.25 & 0.75 & 0\\end{matrix}\\right]$"
          },
          "metadata": {},
          "execution_count": 10
        }
      ]
    },
    {
      "cell_type": "code",
      "source": [
        "#Vecteur d'état initial du système\n",
        "P0 = sp.Matrix([[0, 1, 0]])\n",
        "P0"
      ],
      "metadata": {
        "id": "60BN23_emjhw",
        "colab": {
          "base_uri": "https://localhost:8080/",
          "height": 38
        },
        "outputId": "b53a42a7-7a7e-446a-f704-5a2943cee4cb"
      },
      "execution_count": null,
      "outputs": [
        {
          "output_type": "execute_result",
          "data": {
            "text/plain": [
              "Matrix([[0, 1, 0]])"
            ],
            "text/latex": "$\\displaystyle \\left[\\begin{matrix}0 & 1 & 0\\end{matrix}\\right]$"
          },
          "metadata": {},
          "execution_count": 11
        }
      ]
    },
    {
      "cell_type": "code",
      "source": [
        "P0 * B.transpose()"
      ],
      "metadata": {
        "id": "GBQzwocgp8A8",
        "colab": {
          "base_uri": "https://localhost:8080/",
          "height": 38
        },
        "outputId": "7556ec54-f94a-49b9-f481-ebc778741d11"
      },
      "execution_count": null,
      "outputs": [
        {
          "output_type": "execute_result",
          "data": {
            "text/plain": [
              "Matrix([[0.5, 0, 0.5]])"
            ],
            "text/latex": "$\\displaystyle \\left[\\begin{matrix}0.5 & 0 & 0.5\\end{matrix}\\right]$"
          },
          "metadata": {},
          "execution_count": 12
        }
      ]
    },
    {
      "cell_type": "code",
      "source": [
        "#Après 3 passes\n",
        "P0 * (B**3)"
      ],
      "metadata": {
        "id": "TXUSpxd8uMop",
        "colab": {
          "base_uri": "https://localhost:8080/",
          "height": 38
        },
        "outputId": "c830dcb6-3c46-42d0-f477-8f8b9acf1bc3"
      },
      "execution_count": null,
      "outputs": [
        {
          "output_type": "execute_result",
          "data": {
            "text/plain": [
              "Matrix([[0.236111111111111, 0.291666666666667, 0.53125]])"
            ],
            "text/latex": "$\\displaystyle \\left[\\begin{matrix}0.236111111111111 & 0.291666666666667 & 0.53125\\end{matrix}\\right]$"
          },
          "metadata": {},
          "execution_count": 13
        }
      ]
    },
    {
      "cell_type": "code",
      "source": [
        "#Après 100 passes\n",
        "P0 * (B.transpose()**100)"
      ],
      "metadata": {
        "id": "mkfc8dg0Sl6B",
        "colab": {
          "base_uri": "https://localhost:8080/",
          "height": 38
        },
        "outputId": "9ab0d36f-4364-41be-c2d3-3c0d8b305851"
      },
      "execution_count": null,
      "outputs": [
        {
          "output_type": "execute_result",
          "data": {
            "text/plain": [
              "Matrix([[0.272727272727272, 0.363636363636363, 0.363636363636363]])"
            ],
            "text/latex": "$\\displaystyle \\left[\\begin{matrix}0.272727272727272 & 0.363636363636363 & 0.363636363636363\\end{matrix}\\right]$"
          },
          "metadata": {},
          "execution_count": 14
        }
      ]
    },
    {
      "cell_type": "code",
      "source": [
        "#Liste des valeurs après 23 passes\n",
        "liste_approx2 = [P0]\n",
        "for rang in range (1, 23, 1):\n",
        "  P0 = P0 * B\n",
        "  liste_approx2.append(P0)\n",
        " \n",
        "liste_approx2"
      ],
      "metadata": {
        "id": "8w4PAQVtuRel",
        "colab": {
          "base_uri": "https://localhost:8080/"
        },
        "outputId": "0c5bb907-05ff-4845-a5ed-b22244eba315"
      },
      "execution_count": null,
      "outputs": [
        {
          "output_type": "execute_result",
          "data": {
            "text/plain": [
              "[Matrix([[0, 1, 0]]),\n",
              " Matrix([[0.333333333333333, 0, 0.75]]),\n",
              " Matrix([[0.5, 0.541666666666667, 0.0833333333333333]]),\n",
              " Matrix([[0.236111111111111, 0.291666666666667, 0.53125]]),\n",
              " Matrix([[0.451388888888889, 0.383680555555556, 0.277777777777778]]),\n",
              " Matrix([[0.313078703703704, 0.364583333333333, 0.400607638888889]]),\n",
              " Matrix([[0.388599537037037, 0.356843171296296, 0.351707175925926]]),\n",
              " Matrix([[0.353419174382716, 0.370153356481481, 0.364782262731481]]),\n",
              " Matrix([[0.366572627314815, 0.359100718557099, 0.36596981095679]]),\n",
              " Matrix([[0.363680113490226, 0.366271219135802, 0.360968695746528]]),\n",
              " Matrix([[0.362736203542953, 0.362324404618377, 0.365623442724408]]),\n",
              " Matrix([[0.364523763355731, 0.364179823133681, 0.362427354349521]]),\n",
              " Matrix([[0.363011510610907, 0.363475558852626, 0.364265808189193]]),\n",
              " Matrix([[0.364002391743671, 0.36363865940005, 0.363359546792196]]),\n",
              " Matrix([[0.363452584328148, 0.363680969267934, 0.363729592485955]]),\n",
              " Matrix([[0.363713384746615, 0.363591088407052, 0.363623873032987]]),\n",
              " Matrix([[0.363612944824342, 0.363668628889801, 0.363621662491942]]),\n",
              " Matrix([[0.363637317957895, 0.363617303658142, 0.363654707873436]]),\n",
              " Matrix([[0.363642239801672, 0.363646012915666, 0.36362230723308]]),\n",
              " Matrix([[0.363630209127276, 0.363632273517376, 0.363645069637167]]),\n",
              " Matrix([[0.363640804263903, 0.363637639382221, 0.363631757419851]]),\n",
              " Matrix([[0.363633718073974, 0.363636280841877, 0.363638430602642]]),\n",
              " Matrix([[0.36363771401572, 0.363636074338308, 0.363635640149901]])]"
            ]
          },
          "metadata": {},
          "execution_count": 15
        }
      ]
    },
    {
      "cell_type": "code",
      "source": [
        "#Valeurs propres\n",
        "B.eigenvals()\n",
        "B"
      ],
      "metadata": {
        "id": "eo6gS9WM0QQL",
        "colab": {
          "base_uri": "https://localhost:8080/",
          "height": 78
        },
        "outputId": "986b98f5-3910-46ac-9831-518d4871a6ad"
      },
      "execution_count": null,
      "outputs": [
        {
          "output_type": "execute_result",
          "data": {
            "text/plain": [
              "Matrix([\n",
              "[                0, 0.5, 0.25],\n",
              "[0.333333333333333,   0, 0.75],\n",
              "[0.666666666666667, 0.5,    0]])"
            ],
            "text/latex": "$\\displaystyle \\left[\\begin{matrix}0 & 0.5 & 0.25\\\\0.333333333333333 & 0 & 0.75\\\\0.666666666666667 & 0.5 & 0\\end{matrix}\\right]$"
          },
          "metadata": {},
          "execution_count": 16
        }
      ]
    },
    {
      "cell_type": "code",
      "source": [
        "#Vecteurs propres\n",
        "V = B.eigenvects()\n",
        "V"
      ],
      "metadata": {
        "id": "Uqds4FD4AMvO",
        "colab": {
          "base_uri": "https://localhost:8080/"
        },
        "outputId": "7a83d989-afbd-4871-f22a-12c814b6c1ba"
      },
      "execution_count": null,
      "outputs": [
        {
          "output_type": "execute_result",
          "data": {
            "text/plain": [
              "[(1.0 + 5.77166966133489e-65*I, 1, [Matrix([\n",
              "   [-0.368290763075254 + 0.289610270804401*I],\n",
              "   [-0.491054350767005 + 0.386147027739202*I],\n",
              "   [-0.491054350767005 + 0.386147027739202*I]])]),\n",
              " (-0.5 - 0.204124145231932*I, 1, [Matrix([\n",
              "   [-0.420036623024325 + 0.354655519525107*I],\n",
              "   [0.709611642123721 - 0.0116970529613174*I],\n",
              "   [-0.289575019099396 - 0.342958466563789*I]])]),\n",
              " (-0.5 + 0.204124145231932*I, 1, [Matrix([\n",
              "   [-0.635080638977534 + 0.130870651600854*I],\n",
              "   [ 0.528225199401653 - 0.649411821939406*I],\n",
              "   [ 0.106855439575881 + 0.518541170338552*I]])])]"
            ]
          },
          "metadata": {},
          "execution_count": 17
        }
      ]
    },
    {
      "cell_type": "markdown",
      "source": [
        "### Vecteurs de la chaîne de Markov"
      ],
      "metadata": {
        "id": "LewAr5NgcU3H"
      }
    },
    {
      "cell_type": "markdown",
      "source": [
        "Chaque chaîne de Markov doit avoir un vecteur initial. Il permet d'indiquer quelle sera la distribution de l'état initial. Je vais appeler ce vecteur $V_e$. \"e\" représente l'état, puisque c'est un vecteur d'état initial.\n",
        "\n",
        "$V_{init}=(v_1\\  \\ v_2\\ \\ v_3)$"
      ],
      "metadata": {
        "id": "Ful0Ad2LjDY0"
      }
    },
    {
      "cell_type": "code",
      "source": [
        "v_init = np.array([0.1, 0.8, 0.1])"
      ],
      "metadata": {
        "id": "RLIYgP5kb2fv"
      },
      "execution_count": null,
      "outputs": []
    },
    {
      "cell_type": "markdown",
      "source": [
        "D'après le vecteur d'état initial, \n",
        "- 10% commencent à l'état 1\n",
        "- 80% commencent à l'état 2\n",
        "- 10% commencent à l'état 3\n",
        "\n",
        "\n",
        "\\\n",
        "\n",
        "Pour savoir comment se font les transitions entre les états, on peut utiliser une **matrice de transition**. Elle donne les probabilités de passer d'un état à l'autre.\n",
        "\n",
        "J'appelle la matrice de transition $V_{transition}$.\n",
        "\n",
        "Le terme transition n'est pas utilisé pour indiquer un temps, mais pour indiquer un changement d'état\n"
      ],
      "metadata": {
        "id": "oQSPoNTgki4X"
      }
    },
    {
      "cell_type": "code",
      "source": [
        "v_transition = np.array(\n",
        "    [[0.6, 0.2, 0.2],\n",
        "     [0.05, 0.9, 0.05],\n",
        "     [0.1, 0.2, 0.7]]\n",
        ")\n",
        "v_transition"
      ],
      "metadata": {
        "colab": {
          "base_uri": "https://localhost:8080/"
        },
        "id": "W0xO2qFxaVyQ",
        "outputId": "5c878fe8-5dc1-4f48-d301-96ef05442c14"
      },
      "execution_count": null,
      "outputs": [
        {
          "output_type": "execute_result",
          "data": {
            "text/plain": [
              "array([[0.6 , 0.2 , 0.2 ],\n",
              "       [0.05, 0.9 , 0.05],\n",
              "       [0.1 , 0.2 , 0.7 ]])"
            ]
          },
          "metadata": {},
          "execution_count": 20
        }
      ]
    },
    {
      "cell_type": "markdown",
      "source": [
        "J'utilise la fonction suivante pour vérifier que la somme de chaque rangé est 1. S'il y a une erreur, c'est que la somme n'est pas 1."
      ],
      "metadata": {
        "id": "9bAmtX7Hmp8M"
      }
    },
    {
      "cell_type": "code",
      "source": [
        "assert v_transition[0, :].sum() == 1\n",
        "assert v_transition[1, :].sum() == 1\n",
        "assert v_transition[2, :].sum() == 1"
      ],
      "metadata": {
        "id": "2yukZD5VaWlz"
      },
      "execution_count": null,
      "outputs": []
    },
    {
      "cell_type": "markdown",
      "source": [
        "Pour faire une simulation de la distribution dans le prochain état, je multiplie la matrice initiale par la matrice de transition."
      ],
      "metadata": {
        "id": "E_OQZ5_jnzjl"
      }
    },
    {
      "cell_type": "code",
      "source": [
        "v_proch = v_init @ v_transition\n",
        "v_proch"
      ],
      "metadata": {
        "colab": {
          "base_uri": "https://localhost:8080/"
        },
        "id": "wjP5vu1kcHqH",
        "outputId": "3e070a5a-7a5c-4af3-d4b0-e311afe419ef"
      },
      "execution_count": null,
      "outputs": [
        {
          "output_type": "execute_result",
          "data": {
            "text/plain": [
              "array([0.11, 0.76, 0.13])"
            ]
          },
          "metadata": {},
          "execution_count": 22
        }
      ]
    },
    {
      "cell_type": "markdown",
      "source": [
        "Je peux le refaire, pour simuler la distribution de l'état juste après."
      ],
      "metadata": {
        "id": "dj8ilBTIo7TW"
      }
    },
    {
      "cell_type": "code",
      "source": [
        "v_proch = v_proch @ v_transition\n",
        "v_proch"
      ],
      "metadata": {
        "colab": {
          "base_uri": "https://localhost:8080/"
        },
        "id": "hOrt97xbcMlB",
        "outputId": "62280816-1e86-4f69-fe3b-02d80da7cc5b"
      },
      "execution_count": null,
      "outputs": [
        {
          "output_type": "execute_result",
          "data": {
            "text/plain": [
              "array([0.117, 0.732, 0.151])"
            ]
          },
          "metadata": {},
          "execution_count": 23
        }
      ]
    },
    {
      "cell_type": "markdown",
      "source": [
        "Je vais faire une boucle-for du processus "
      ],
      "metadata": {
        "id": "uMxjvN4XpLl-"
      }
    },
    {
      "cell_type": "code",
      "source": [
        "v_etat_t = [v_init]\n",
        "\n",
        "for i in range(244):  # 244 états :)\n",
        "    v_etat_t.append(v_etat_t[-1] @ v_transition)"
      ],
      "metadata": {
        "id": "PF9W6N6WcSRZ"
      },
      "execution_count": null,
      "outputs": []
    },
    {
      "cell_type": "markdown",
      "source": [
        "Pour aider à comprendre ce qui a été générer, je mets la liste v_etat_t dans une trame de donnée pandas. C'est la raison pourquoi le module a été importé."
      ],
      "metadata": {
        "id": "HZFE7o86p0pm"
      }
    },
    {
      "cell_type": "code",
      "source": [
        "distributions_etat = pd.DataFrame(v_etat_t)\n",
        "distributions_etat"
      ],
      "metadata": {
        "colab": {
          "base_uri": "https://localhost:8080/",
          "height": 424
        },
        "id": "ZrMgimwgcfSJ",
        "outputId": "34c2027e-c80f-4312-df7f-f0b7ebc3855b"
      },
      "execution_count": null,
      "outputs": [
        {
          "output_type": "execute_result",
          "data": {
            "text/plain": [
              "            0         1        2\n",
              "0    0.100000  0.800000  0.10000\n",
              "1    0.110000  0.760000  0.13000\n",
              "2    0.117000  0.732000  0.15100\n",
              "3    0.121900  0.712400  0.16570\n",
              "4    0.125330  0.698680  0.17599\n",
              "..        ...       ...      ...\n",
              "240  0.133333  0.666667  0.20000\n",
              "241  0.133333  0.666667  0.20000\n",
              "242  0.133333  0.666667  0.20000\n",
              "243  0.133333  0.666667  0.20000\n",
              "244  0.133333  0.666667  0.20000\n",
              "\n",
              "[245 rows x 3 columns]"
            ],
            "text/html": [
              "\n",
              "  <div id=\"df-eb5c7ba9-faf0-4bd7-aa58-e7f863999b31\">\n",
              "    <div class=\"colab-df-container\">\n",
              "      <div>\n",
              "<style scoped>\n",
              "    .dataframe tbody tr th:only-of-type {\n",
              "        vertical-align: middle;\n",
              "    }\n",
              "\n",
              "    .dataframe tbody tr th {\n",
              "        vertical-align: top;\n",
              "    }\n",
              "\n",
              "    .dataframe thead th {\n",
              "        text-align: right;\n",
              "    }\n",
              "</style>\n",
              "<table border=\"1\" class=\"dataframe\">\n",
              "  <thead>\n",
              "    <tr style=\"text-align: right;\">\n",
              "      <th></th>\n",
              "      <th>0</th>\n",
              "      <th>1</th>\n",
              "      <th>2</th>\n",
              "    </tr>\n",
              "  </thead>\n",
              "  <tbody>\n",
              "    <tr>\n",
              "      <th>0</th>\n",
              "      <td>0.100000</td>\n",
              "      <td>0.800000</td>\n",
              "      <td>0.10000</td>\n",
              "    </tr>\n",
              "    <tr>\n",
              "      <th>1</th>\n",
              "      <td>0.110000</td>\n",
              "      <td>0.760000</td>\n",
              "      <td>0.13000</td>\n",
              "    </tr>\n",
              "    <tr>\n",
              "      <th>2</th>\n",
              "      <td>0.117000</td>\n",
              "      <td>0.732000</td>\n",
              "      <td>0.15100</td>\n",
              "    </tr>\n",
              "    <tr>\n",
              "      <th>3</th>\n",
              "      <td>0.121900</td>\n",
              "      <td>0.712400</td>\n",
              "      <td>0.16570</td>\n",
              "    </tr>\n",
              "    <tr>\n",
              "      <th>4</th>\n",
              "      <td>0.125330</td>\n",
              "      <td>0.698680</td>\n",
              "      <td>0.17599</td>\n",
              "    </tr>\n",
              "    <tr>\n",
              "      <th>...</th>\n",
              "      <td>...</td>\n",
              "      <td>...</td>\n",
              "      <td>...</td>\n",
              "    </tr>\n",
              "    <tr>\n",
              "      <th>240</th>\n",
              "      <td>0.133333</td>\n",
              "      <td>0.666667</td>\n",
              "      <td>0.20000</td>\n",
              "    </tr>\n",
              "    <tr>\n",
              "      <th>241</th>\n",
              "      <td>0.133333</td>\n",
              "      <td>0.666667</td>\n",
              "      <td>0.20000</td>\n",
              "    </tr>\n",
              "    <tr>\n",
              "      <th>242</th>\n",
              "      <td>0.133333</td>\n",
              "      <td>0.666667</td>\n",
              "      <td>0.20000</td>\n",
              "    </tr>\n",
              "    <tr>\n",
              "      <th>243</th>\n",
              "      <td>0.133333</td>\n",
              "      <td>0.666667</td>\n",
              "      <td>0.20000</td>\n",
              "    </tr>\n",
              "    <tr>\n",
              "      <th>244</th>\n",
              "      <td>0.133333</td>\n",
              "      <td>0.666667</td>\n",
              "      <td>0.20000</td>\n",
              "    </tr>\n",
              "  </tbody>\n",
              "</table>\n",
              "<p>245 rows × 3 columns</p>\n",
              "</div>\n",
              "      <button class=\"colab-df-convert\" onclick=\"convertToInteractive('df-eb5c7ba9-faf0-4bd7-aa58-e7f863999b31')\"\n",
              "              title=\"Convert this dataframe to an interactive table.\"\n",
              "              style=\"display:none;\">\n",
              "        \n",
              "  <svg xmlns=\"http://www.w3.org/2000/svg\" height=\"24px\"viewBox=\"0 0 24 24\"\n",
              "       width=\"24px\">\n",
              "    <path d=\"M0 0h24v24H0V0z\" fill=\"none\"/>\n",
              "    <path d=\"M18.56 5.44l.94 2.06.94-2.06 2.06-.94-2.06-.94-.94-2.06-.94 2.06-2.06.94zm-11 1L8.5 8.5l.94-2.06 2.06-.94-2.06-.94L8.5 2.5l-.94 2.06-2.06.94zm10 10l.94 2.06.94-2.06 2.06-.94-2.06-.94-.94-2.06-.94 2.06-2.06.94z\"/><path d=\"M17.41 7.96l-1.37-1.37c-.4-.4-.92-.59-1.43-.59-.52 0-1.04.2-1.43.59L10.3 9.45l-7.72 7.72c-.78.78-.78 2.05 0 2.83L4 21.41c.39.39.9.59 1.41.59.51 0 1.02-.2 1.41-.59l7.78-7.78 2.81-2.81c.8-.78.8-2.07 0-2.86zM5.41 20L4 18.59l7.72-7.72 1.47 1.35L5.41 20z\"/>\n",
              "  </svg>\n",
              "      </button>\n",
              "      \n",
              "  <style>\n",
              "    .colab-df-container {\n",
              "      display:flex;\n",
              "      flex-wrap:wrap;\n",
              "      gap: 12px;\n",
              "    }\n",
              "\n",
              "    .colab-df-convert {\n",
              "      background-color: #E8F0FE;\n",
              "      border: none;\n",
              "      border-radius: 50%;\n",
              "      cursor: pointer;\n",
              "      display: none;\n",
              "      fill: #1967D2;\n",
              "      height: 32px;\n",
              "      padding: 0 0 0 0;\n",
              "      width: 32px;\n",
              "    }\n",
              "\n",
              "    .colab-df-convert:hover {\n",
              "      background-color: #E2EBFA;\n",
              "      box-shadow: 0px 1px 2px rgba(60, 64, 67, 0.3), 0px 1px 3px 1px rgba(60, 64, 67, 0.15);\n",
              "      fill: #174EA6;\n",
              "    }\n",
              "\n",
              "    [theme=dark] .colab-df-convert {\n",
              "      background-color: #3B4455;\n",
              "      fill: #D2E3FC;\n",
              "    }\n",
              "\n",
              "    [theme=dark] .colab-df-convert:hover {\n",
              "      background-color: #434B5C;\n",
              "      box-shadow: 0px 1px 3px 1px rgba(0, 0, 0, 0.15);\n",
              "      filter: drop-shadow(0px 1px 2px rgba(0, 0, 0, 0.3));\n",
              "      fill: #FFFFFF;\n",
              "    }\n",
              "  </style>\n",
              "\n",
              "      <script>\n",
              "        const buttonEl =\n",
              "          document.querySelector('#df-eb5c7ba9-faf0-4bd7-aa58-e7f863999b31 button.colab-df-convert');\n",
              "        buttonEl.style.display =\n",
              "          google.colab.kernel.accessAllowed ? 'block' : 'none';\n",
              "\n",
              "        async function convertToInteractive(key) {\n",
              "          const element = document.querySelector('#df-eb5c7ba9-faf0-4bd7-aa58-e7f863999b31');\n",
              "          const dataTable =\n",
              "            await google.colab.kernel.invokeFunction('convertToInteractive',\n",
              "                                                     [key], {});\n",
              "          if (!dataTable) return;\n",
              "\n",
              "          const docLinkHtml = 'Like what you see? Visit the ' +\n",
              "            '<a target=\"_blank\" href=https://colab.research.google.com/notebooks/data_table.ipynb>data table notebook</a>'\n",
              "            + ' to learn more about interactive tables.';\n",
              "          element.innerHTML = '';\n",
              "          dataTable['output_type'] = 'display_data';\n",
              "          await google.colab.output.renderOutput(dataTable, element);\n",
              "          const docLink = document.createElement('div');\n",
              "          docLink.innerHTML = docLinkHtml;\n",
              "          element.appendChild(docLink);\n",
              "        }\n",
              "      </script>\n",
              "    </div>\n",
              "  </div>\n",
              "  "
            ]
          },
          "metadata": {},
          "execution_count": 25
        }
      ]
    },
    {
      "cell_type": "markdown",
      "source": [
        "J'insère un graphique pour voir à quoi ressemble la distribution."
      ],
      "metadata": {
        "id": "rCXQlGuuqf6P"
      }
    },
    {
      "cell_type": "code",
      "source": [
        "distributions_etat.plot();"
      ],
      "metadata": {
        "colab": {
          "base_uri": "https://localhost:8080/",
          "height": 265
        },
        "id": "Zw0Gl5Rscjx_",
        "outputId": "76759915-b831-4b32-bf00-296654988ab1"
      },
      "execution_count": null,
      "outputs": [
        {
          "output_type": "display_data",
          "data": {
            "text/plain": [
              "<Figure size 432x288 with 1 Axes>"
            ],
            "image/png": "[encoded data removed]"
          },
          "metadata": {
            "needs_background": "light"
          }
        }
      ]
    },
    {
      "cell_type": "code",
      "source": [],
      "metadata": {
        "id": "Q9HfLS40cshf"
      },
      "execution_count": null,
      "outputs": []
    }
  ]
}